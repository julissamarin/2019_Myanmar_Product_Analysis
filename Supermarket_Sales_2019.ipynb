{
 "cells": [
  {
   "cell_type": "markdown",
   "id": "ecf1f42f",
   "metadata": {},
   "source": [
    "<h1> 2019 Supermarket Sales</h1>"
   ]
  },
  {
   "cell_type": "markdown",
   "id": "567cc14e",
   "metadata": {},
   "source": [
    "<img src =\"Newssupermarket.jpg\">"
   ]
  },
  {
   "cell_type": "markdown",
   "id": "f00ce3c1",
   "metadata": {},
   "source": [
    "<h3> Due to the growth in competitive markets in the city, Company X needs to identify product lines that have the highest profit and sales.</h4>"
   ]
  },
  {
   "cell_type": "markdown",
   "id": "57b66313",
   "metadata": {},
   "source": [
    "<h3> Based on the performance in Q1 of 2019, how can the Company X increase sales based on the gross income and quantity purchased for the 6 product lines? </h3>"
   ]
  },
  {
   "cell_type": "code",
   "execution_count": 121,
   "id": "d699c306",
   "metadata": {},
   "outputs": [],
   "source": [
    "#Import libraries\n",
    "import matplotlib.pyplot as plt\n",
    "import seaborn as sns\n",
    "import pandas as pd\n",
    "import numpy as np"
   ]
  },
  {
   "cell_type": "code",
   "execution_count": 3,
   "id": "22a3a3b3",
   "metadata": {},
   "outputs": [],
   "source": [
    "#Import dataframes\n",
    "df= pd.read_csv(\"supermarket_sales.csv\")"
   ]
  },
  {
   "cell_type": "code",
   "execution_count": 4,
   "id": "58237e4e",
   "metadata": {},
   "outputs": [
    {
     "name": "stdout",
     "output_type": "stream",
     "text": [
      "        Unit price     Quantity       Tax 5%        Total        cogs  \\\n",
      "count  1000.000000  1000.000000  1000.000000  1000.000000  1000.00000   \n",
      "mean     55.672130     5.510000    15.379369   322.966749   307.58738   \n",
      "std      26.494628     2.923431    11.708825   245.885335   234.17651   \n",
      "min      10.080000     1.000000     0.508500    10.678500    10.17000   \n",
      "25%      32.875000     3.000000     5.924875   124.422375   118.49750   \n",
      "50%      55.230000     5.000000    12.088000   253.848000   241.76000   \n",
      "75%      77.935000     8.000000    22.445250   471.350250   448.90500   \n",
      "max      99.960000    10.000000    49.650000  1042.650000   993.00000   \n",
      "\n",
      "       gross margin percentage  gross income      Rating  \n",
      "count             1.000000e+03   1000.000000  1000.00000  \n",
      "mean              4.761905e+00     15.379369     6.97270  \n",
      "std               6.131498e-14     11.708825     1.71858  \n",
      "min               4.761905e+00      0.508500     4.00000  \n",
      "25%               4.761905e+00      5.924875     5.50000  \n",
      "50%               4.761905e+00     12.088000     7.00000  \n",
      "75%               4.761905e+00     22.445250     8.50000  \n",
      "max               4.761905e+00     49.650000    10.00000  \n"
     ]
    }
   ],
   "source": [
    "#Print describe\n",
    "print(df.describe())"
   ]
  },
  {
   "cell_type": "code",
   "execution_count": 5,
   "id": "e33b4253",
   "metadata": {},
   "outputs": [
    {
     "name": "stdout",
     "output_type": "stream",
     "text": [
      "    Invoice ID Branch       City Customer type  Gender  \\\n",
      "0  750-67-8428      A     Yangon        Member  Female   \n",
      "1  226-31-3081      C  Naypyitaw        Normal  Female   \n",
      "2  631-41-3108      A     Yangon        Normal    Male   \n",
      "3  123-19-1176      A     Yangon        Member    Male   \n",
      "4  373-73-7910      A     Yangon        Normal    Male   \n",
      "\n",
      "             Product line  Unit price  Quantity   Tax 5%     Total       Date  \\\n",
      "0       Health and beauty       74.69         7  26.1415  548.9715   1/5/2019   \n",
      "1  Electronic accessories       15.28         5   3.8200   80.2200   3/8/2019   \n",
      "2      Home and lifestyle       46.33         7  16.2155  340.5255   3/3/2019   \n",
      "3       Health and beauty       58.22         8  23.2880  489.0480  1/27/2019   \n",
      "4       Sports and travel       86.31         7  30.2085  634.3785   2/8/2019   \n",
      "\n",
      "    Time      Payment    cogs  gross margin percentage  gross income  Rating  \n",
      "0  13:08      Ewallet  522.83                 4.761905       26.1415     9.1  \n",
      "1  10:29         Cash   76.40                 4.761905        3.8200     9.6  \n",
      "2  13:23  Credit card  324.31                 4.761905       16.2155     7.4  \n",
      "3  20:33      Ewallet  465.76                 4.761905       23.2880     8.4  \n",
      "4  10:37      Ewallet  604.17                 4.761905       30.2085     5.3  \n"
     ]
    }
   ],
   "source": [
    "#Print head \n",
    "print(df.head())"
   ]
  },
  {
   "cell_type": "code",
   "execution_count": 6,
   "id": "f6f34888",
   "metadata": {},
   "outputs": [
    {
     "name": "stdout",
     "output_type": "stream",
     "text": [
      "<class 'pandas.core.frame.DataFrame'>\n",
      "RangeIndex: 1000 entries, 0 to 999\n",
      "Data columns (total 17 columns):\n",
      " #   Column                   Non-Null Count  Dtype  \n",
      "---  ------                   --------------  -----  \n",
      " 0   Invoice ID               1000 non-null   object \n",
      " 1   Branch                   1000 non-null   object \n",
      " 2   City                     1000 non-null   object \n",
      " 3   Customer type            1000 non-null   object \n",
      " 4   Gender                   1000 non-null   object \n",
      " 5   Product line             1000 non-null   object \n",
      " 6   Unit price               1000 non-null   float64\n",
      " 7   Quantity                 1000 non-null   int64  \n",
      " 8   Tax 5%                   1000 non-null   float64\n",
      " 9   Total                    1000 non-null   float64\n",
      " 10  Date                     1000 non-null   object \n",
      " 11  Time                     1000 non-null   object \n",
      " 12  Payment                  1000 non-null   object \n",
      " 13  cogs                     1000 non-null   float64\n",
      " 14  gross margin percentage  1000 non-null   float64\n",
      " 15  gross income             1000 non-null   float64\n",
      " 16  Rating                   1000 non-null   float64\n",
      "dtypes: float64(7), int64(1), object(9)\n",
      "memory usage: 132.9+ KB\n"
     ]
    }
   ],
   "source": [
    "#Print information \n",
    "df.info()"
   ]
  },
  {
   "cell_type": "markdown",
   "id": "4d168a16",
   "metadata": {},
   "source": [
    "<h3>Which product line is the most popular?</h3>"
   ]
  },
  {
   "cell_type": "code",
   "execution_count": 26,
   "id": "b154f57c",
   "metadata": {},
   "outputs": [
    {
     "name": "stdout",
     "output_type": "stream",
     "text": [
      "Fashion accessories       178\n",
      "Food and beverages        174\n",
      "Electronic accessories    170\n",
      "Sports and travel         166\n",
      "Home and lifestyle        160\n",
      "Health and beauty         152\n",
      "Name: Product line, dtype: int64\n"
     ]
    }
   ],
   "source": [
    "product_line = df['Product line'].value_counts()\n",
    "print(product_line)"
   ]
  },
  {
   "cell_type": "markdown",
   "id": "2333745c",
   "metadata": {},
   "source": [
    "<h3>What is the percentage of popularity for each product line?</h3>"
   ]
  },
  {
   "cell_type": "code",
   "execution_count": 27,
   "id": "56a108d6",
   "metadata": {},
   "outputs": [
    {
     "name": "stdout",
     "output_type": "stream",
     "text": [
      "Fashion accessories       0.178\n",
      "Food and beverages        0.174\n",
      "Electronic accessories    0.170\n",
      "Sports and travel         0.166\n",
      "Home and lifestyle        0.160\n",
      "Health and beauty         0.152\n",
      "Name: Product line, dtype: float64\n"
     ]
    }
   ],
   "source": [
    "percent = df['Product line'].value_counts(normalize=True)\n",
    "print(percent)"
   ]
  },
  {
   "cell_type": "markdown",
   "id": "a4da3b5d",
   "metadata": {},
   "source": [
    "<h3>Which Product Line has the highest average gross income?</h3>"
   ]
  },
  {
   "cell_type": "code",
   "execution_count": 43,
   "id": "ec77e1ea",
   "metadata": {},
   "outputs": [
    {
     "data": {
      "image/png": "[encoded data removed]",
      "text/plain": [
       "<Figure size 432x288 with 1 Axes>"
      ]
     },
     "metadata": {
      "needs_background": "light"
     },
     "output_type": "display_data"
    }
   ],
   "source": [
    "product_gi = df.groupby('Product line').mean()['gross income'].sort_values(ascending=False)\n",
    "product_gi.plot(kind=\"bar\")\n",
    "plt.title(\"Product Line Gross Income Averages\")\n",
    "plt.show()"
   ]
  },
  {
   "cell_type": "markdown",
   "id": "d78ea5ba",
   "metadata": {},
   "source": [
    "<h3>Which Branch has the highest average gross income?</h3>"
   ]
  },
  {
   "cell_type": "code",
   "execution_count": 45,
   "id": "6e778ca0",
   "metadata": {},
   "outputs": [
    {
     "data": {
      "image/png": "[encoded data removed]",
      "text/plain": [
       "<Figure size 432x288 with 1 Axes>"
      ]
     },
     "metadata": {
      "needs_background": "light"
     },
     "output_type": "display_data"
    }
   ],
   "source": [
    "branch_gi = df.groupby('Branch').mean()['gross income'].sort_values(ascending=False)\n",
    "branch_gi.plot(kind=\"bar\")\n",
    "plt.title(\"Branch Gross Income Averages\")\n",
    "plt.xticks(rotation=0)\n",
    "plt.show()"
   ]
  },
  {
   "cell_type": "markdown",
   "id": "18568e0d",
   "metadata": {},
   "source": [
    "<h3>Which Product Line is most popular by Gender? </h3>"
   ]
  },
  {
   "cell_type": "code",
   "execution_count": 117,
   "id": "c70162b9",
   "metadata": {
    "scrolled": false
   },
   "outputs": [
    {
     "data": {
      "text/plain": [
       "Text(0.5, 1.0, 'Product Line by Gender')"
      ]
     },
     "execution_count": 117,
     "metadata": {},
     "output_type": "execute_result"
    },
    {
     "data": {
      "image/png": "[encoded data removed]",
      "text/plain": [
       "<Figure size 432x288 with 1 Axes>"
      ]
     },
     "metadata": {
      "needs_background": "light"
     },
     "output_type": "display_data"
    }
   ],
   "source": [
    "ax =sns.countplot(x='Product line', hue='Gender', data=df)\n",
    "plt.xticks(rotation=90)\n",
    "plt.legend(bbox_to_anchor=(1.04,1), loc=\"upper left\")\n",
    "plt.title(\"Product Line by Gender\")"
   ]
  },
  {
   "cell_type": "markdown",
   "id": "6e5ebeaf",
   "metadata": {},
   "source": [
    "<h3>Which Payment method is most popular? </h3>"
   ]
  },
  {
   "cell_type": "code",
   "execution_count": 118,
   "id": "060cae88",
   "metadata": {
    "scrolled": false
   },
   "outputs": [
    {
     "data": {
      "text/plain": [
       "Text(0.5, 1.0, 'Preferred Payment Method by Product Line')"
      ]
     },
     "execution_count": 118,
     "metadata": {},
     "output_type": "execute_result"
    },
    {
     "data": {
      "image/png": "[encoded data removed]",
      "text/plain": [
       "<Figure size 432x288 with 1 Axes>"
      ]
     },
     "metadata": {
      "needs_background": "light"
     },
     "output_type": "display_data"
    }
   ],
   "source": [
    "ax =sns.countplot(x='Product line', hue='Payment', data=df)\n",
    "plt.xticks(rotation=90)\n",
    "plt.legend(bbox_to_anchor=(1.04,1), loc=\"upper left\")\n",
    "plt.title(\"Preferred Payment Method by Product Line\")"
   ]
  },
  {
   "cell_type": "code",
   "execution_count": null,
   "id": "f6957144",
   "metadata": {},
   "outputs": [],
   "source": []
  },
  {
   "cell_type": "code",
   "execution_count": null,
   "id": "0613036f",
   "metadata": {},
   "outputs": [],
   "source": []
  }
 ],
 "metadata": {
  "kernelspec": {
   "display_name": "Python 3",
   "language": "python",
   "name": "python3"
  },
  "language_info": {
   "codemirror_mode": {
    "name": "ipython",
    "version": 3
   },
   "file_extension": ".py",
   "mimetype": "text/x-python",
   "name": "python",
   "nbconvert_exporter": "python",
   "pygments_lexer": "ipython3",
   "version": "3.8.8"
  }
 },
 "nbformat": 4,
 "nbformat_minor": 5
}
